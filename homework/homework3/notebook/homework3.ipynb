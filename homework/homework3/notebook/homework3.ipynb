{
 "cells": [
  {
   "cell_type": "code",
   "execution_count": 1,
   "id": "c5c2c898-e615-4a7a-a52d-7be851643a2e",
   "metadata": {},
   "outputs": [
    {
     "name": "stdout",
     "output_type": "stream",
     "text": [
      "Loop time: 4.506111145019531e-05\n",
      "Vectorized time: 2.5033950805664062e-05\n",
      "Squared array: [ 1  4  9 16 25]\n"
     ]
    }
   ],
   "source": [
    "import numpy as np\n",
    "import time\n",
    "\n",
    "arr = np.array([1, 2, 3, 4, 5])\n",
    "\n",
    "# Loop square\n",
    "start = time.time()\n",
    "squared_loop = [x**2 for x in arr]\n",
    "print(\"Loop time:\", time.time() - start)\n",
    "\n",
    "# Vectorized square\n",
    "start = time.time()\n",
    "squared_vectorized = arr ** 2\n",
    "print(\"Vectorized time:\", time.time() - start)\n",
    "\n",
    "print(\"Squared array:\", squared_vectorized)"
   ]
  },
  {
   "cell_type": "code",
   "execution_count": 2,
   "id": "c83c963a-ac79-4812-912a-0486a430430c",
   "metadata": {},
   "outputs": [
    {
     "name": "stdout",
     "output_type": "stream",
     "text": [
      "Requirement already satisfied: pandas in /opt/anaconda3/envs/fe-course/lib/python3.11/site-packages (2.3.1)\n",
      "Requirement already satisfied: numpy>=1.23.2 in /opt/anaconda3/envs/fe-course/lib/python3.11/site-packages (from pandas) (2.3.2)\n",
      "Requirement already satisfied: python-dateutil>=2.8.2 in /opt/anaconda3/envs/fe-course/lib/python3.11/site-packages (from pandas) (2.9.0.post0)\n",
      "Requirement already satisfied: pytz>=2020.1 in /opt/anaconda3/envs/fe-course/lib/python3.11/site-packages (from pandas) (2025.2)\n",
      "Requirement already satisfied: tzdata>=2022.7 in /opt/anaconda3/envs/fe-course/lib/python3.11/site-packages (from pandas) (2025.2)\n",
      "Requirement already satisfied: six>=1.5 in /opt/anaconda3/envs/fe-course/lib/python3.11/site-packages (from python-dateutil>=2.8.2->pandas) (1.17.0)\n",
      "Note: you may need to restart the kernel to use updated packages.\n"
     ]
    }
   ],
   "source": [
    "pip install pandas"
   ]
  },
  {
   "cell_type": "code",
   "execution_count": 3,
   "id": "0ab4c9d4-fb4b-4459-bc35-2098acf3cab6",
   "metadata": {},
   "outputs": [
    {
     "name": "stdout",
     "output_type": "stream",
     "text": [
      "<class 'pandas.core.frame.DataFrame'>\n",
      "RangeIndex: 10 entries, 0 to 9\n",
      "Data columns (total 3 columns):\n",
      " #   Column    Non-Null Count  Dtype \n",
      "---  ------    --------------  ----- \n",
      " 0   category  10 non-null     object\n",
      " 1   value     10 non-null     int64 \n",
      " 2   date      10 non-null     object\n",
      "dtypes: int64(1), object(2)\n",
      "memory usage: 372.0+ bytes\n",
      "None\n",
      "  category  value        date\n",
      "0        A     10  2025-08-01\n",
      "1        B     15  2025-08-02\n",
      "2        A     12  2025-08-03\n",
      "3        B     18  2025-08-04\n",
      "4        C     25  2025-08-05\n"
     ]
    }
   ],
   "source": [
    "import pandas as pd\n",
    "\n",
    "# Adjust path relative to notebook\n",
    "df = pd.read_csv('/Users/hemangdahiya/bootcamp_Hemang_Dahiya/homework/homework3/data/starter_data.csv')\n",
    "\n",
    "print(df.info())\n",
    "print(df.head())"
   ]
  },
  {
   "cell_type": "code",
   "execution_count": 4,
   "id": "76069688-8de1-47fd-9d3b-b698457c402d",
   "metadata": {},
   "outputs": [
    {
     "name": "stdout",
     "output_type": "stream",
     "text": [
      "           value\n",
      "count  10.000000\n",
      "mean   17.600000\n",
      "std     7.381659\n",
      "min    10.000000\n",
      "25%    12.250000\n",
      "50%    14.500000\n",
      "75%    23.250000\n",
      "max    30.000000\n",
      "               mean  sum  count\n",
      "category                       \n",
      "A         11.500000   46      4\n",
      "B         15.666667   47      3\n",
      "C         27.666667   83      3\n"
     ]
    }
   ],
   "source": [
    "summary_stats = df.describe()\n",
    "print(summary_stats)\n",
    "\n",
    "group_stats = df.groupby('category')['value'].agg(['mean', 'sum', 'count'])\n",
    "print(group_stats)"
   ]
  },
  {
   "cell_type": "code",
   "execution_count": 5,
   "id": "20de11ef-6458-473a-a074-53be3214bd8e",
   "metadata": {},
   "outputs": [],
   "source": [
    "import os\n",
    "\n",
    "os.makedirs('../data/processed', exist_ok=True)\n",
    "\n",
    "summary_stats.to_csv('../data/processed/summary.csv')\n",
    "group_stats.to_csv('../data/processed/group_stats.csv')"
   ]
  },
  {
   "cell_type": "code",
   "execution_count": 6,
   "id": "f34dd974-045b-45e4-8e1b-418fda6d21dc",
   "metadata": {},
   "outputs": [
    {
     "name": "stdout",
     "output_type": "stream",
     "text": [
      "Requirement already satisfied: matplotlib in /opt/anaconda3/envs/fe-course/lib/python3.11/site-packages (3.10.5)\n",
      "Requirement already satisfied: contourpy>=1.0.1 in /opt/anaconda3/envs/fe-course/lib/python3.11/site-packages (from matplotlib) (1.3.3)\n",
      "Requirement already satisfied: cycler>=0.10 in /opt/anaconda3/envs/fe-course/lib/python3.11/site-packages (from matplotlib) (0.12.1)\n",
      "Requirement already satisfied: fonttools>=4.22.0 in /opt/anaconda3/envs/fe-course/lib/python3.11/site-packages (from matplotlib) (4.59.1)\n",
      "Requirement already satisfied: kiwisolver>=1.3.1 in /opt/anaconda3/envs/fe-course/lib/python3.11/site-packages (from matplotlib) (1.4.9)\n",
      "Requirement already satisfied: numpy>=1.23 in /opt/anaconda3/envs/fe-course/lib/python3.11/site-packages (from matplotlib) (2.3.2)\n",
      "Requirement already satisfied: packaging>=20.0 in /opt/anaconda3/envs/fe-course/lib/python3.11/site-packages (from matplotlib) (25.0)\n",
      "Requirement already satisfied: pillow>=8 in /opt/anaconda3/envs/fe-course/lib/python3.11/site-packages (from matplotlib) (11.3.0)\n",
      "Requirement already satisfied: pyparsing>=2.3.1 in /opt/anaconda3/envs/fe-course/lib/python3.11/site-packages (from matplotlib) (3.2.3)\n",
      "Requirement already satisfied: python-dateutil>=2.7 in /opt/anaconda3/envs/fe-course/lib/python3.11/site-packages (from matplotlib) (2.9.0.post0)\n",
      "Requirement already satisfied: six>=1.5 in /opt/anaconda3/envs/fe-course/lib/python3.11/site-packages (from python-dateutil>=2.7->matplotlib) (1.17.0)\n",
      "Note: you may need to restart the kernel to use updated packages.\n"
     ]
    }
   ],
   "source": [
    "pip install matplotlib"
   ]
  },
  {
   "cell_type": "code",
   "execution_count": 7,
   "id": "e793e885-ef7f-4c11-94aa-1de38439d123",
   "metadata": {},
   "outputs": [
    {
     "data": {
      "image/png": "[encoded data removed]",
      "text/plain": [
       "<Figure size 640x480 with 1 Axes>"
      ]
     },
     "metadata": {},
     "output_type": "display_data"
    }
   ],
   "source": [
    "import matplotlib.pyplot as plt\n",
    "\n",
    "group_stats['mean'].plot(kind='bar')\n",
    "plt.title('Mean Value by Category')\n",
    "plt.ylabel('Mean Value')\n",
    "plt.savefig('../data/processed/mean_value_by_category.png')\n",
    "plt.show()"
   ]
  },
  {
   "cell_type": "code",
   "execution_count": 8,
   "id": "228a3f15-adfa-446b-891c-fd0fa32a20bf",
   "metadata": {},
   "outputs": [],
   "source": [
    "def get_summary_stats(df):\n",
    "    return df.describe()\n",
    "\n",
    "def get_group_stats(df):\n",
    "    return df.groupby('category')['value'].agg(['mean', 'sum', 'count'])"
   ]
  },
  {
   "cell_type": "code",
   "execution_count": 9,
   "id": "b433fcb6-3b3b-4f69-b813-d562a004e7e7",
   "metadata": {},
   "outputs": [
    {
     "name": "stdout",
     "output_type": "stream",
     "text": [
      "           value\n",
      "count  10.000000\n",
      "mean   17.600000\n",
      "std     7.381659\n",
      "min    10.000000\n",
      "25%    12.250000\n",
      "50%    14.500000\n",
      "75%    23.250000\n",
      "max    30.000000\n",
      "               mean  sum  count\n",
      "category                       \n",
      "A         11.500000   46      4\n",
      "B         15.666667   47      3\n",
      "C         27.666667   83      3\n"
     ]
    }
   ],
   "source": [
    "summary_stats = get_summary_stats(df)\n",
    "group_stats = get_group_stats(df)\n",
    "print(summary_stats)\n",
    "print(group_stats)"
   ]
  },
  {
   "cell_type": "code",
   "execution_count": 10,
   "id": "d661156d-61bd-457e-8854-93efa31c266c",
   "metadata": {},
   "outputs": [
    {
     "name": "stdout",
     "output_type": "stream",
     "text": [
      "Note: you may need to restart the kernel to use updated packages.\n"
     ]
    }
   ],
   "source": [
    "pip freeze > requirements.txt"
   ]
  },
  {
   "cell_type": "code",
   "execution_count": 11,
   "id": "1fbc23b9-7903-4ad8-9c85-6e36efd596b6",
   "metadata": {},
   "outputs": [
    {
     "name": "stdout",
     "output_type": "stream",
     "text": [
      "anyio==4.10.0\n",
      "appnope==0.1.4\n",
      "argon2-cffi==25.1.0\n",
      "argon2-cffi-bindings==25.1.0\n",
      "arrow==1.3.0\n",
      "asttokens==3.0.0\n",
      "async-lru==2.0.5\n",
      "attrs==25.3.0\n",
      "babel==2.17.0\n",
      "beautifulsoup4==4.13.4\n",
      "bleach==6.2.0\n",
      "certifi==2025.8.3\n",
      "cffi==1.17.1\n",
      "charset-normalizer==3.4.3\n",
      "comm==0.2.3\n",
      "contourpy==1.3.3\n",
      "cycler==0.12.1\n",
      "debugpy==1.8.16\n",
      "decorator==5.2.1\n",
      "defusedxml==0.7.1\n",
      "executing==2.2.0\n",
      "fastjsonschema==2.21.2\n",
      "fonttools==4.59.1\n",
      "fqdn==1.5.1\n",
      "h11==0.16.0\n",
      "httpcore==1.0.9\n",
      "httpx==0.28.1\n",
      "idna==3.10\n",
      "ipykernel==6.30.1\n",
      "ipython==9.4.0\n",
      "ipython_pygments_lexers==1.1.1\n",
      "ipywidgets==8.1.7\n",
      "isoduration==20.11.0\n",
      "jedi==0.19.2\n",
      "Jinja2==3.1.6\n",
      "json5==0.12.1\n",
      "jsonpointer==3.0.0\n",
      "jsonschema==4.25.1\n",
      "jsonschema-specifications==2025.4.1\n",
      "jupyter==1.1.1\n",
      "jupyter-console==6.6.3\n",
      "jupyter-events==0.12.0\n",
      "jupyter-lsp==2.2.6\n",
      "jupyter_client==8.6.3\n",
      "jupyter_core==5.8.1\n",
      "jupyter_server==2.16.0\n",
      "jupyter_server_terminals==0.5.3\n",
      "jupyterlab==4.4.6\n",
      "jupyterlab_pygments==0.3.0\n",
      "jupyterlab_server==2.27.3\n",
      "jupyterlab_widgets==3.0.15\n",
      "kiwisolver==1.4.9\n",
      "lark==1.2.2\n",
      "MarkupSafe==3.0.2\n",
      "matplotlib==3.10.5\n",
      "matplotlib-inline==0.1.7\n",
      "mistune==3.1.3\n",
      "nbclient==0.10.2\n",
      "nbconvert==7.16.6\n",
      "nbformat==5.10.4\n",
      "nest-asyncio==1.6.0\n",
      "notebook==7.4.5\n",
      "notebook_shim==0.2.4\n",
      "numpy==2.3.2\n",
      "overrides==7.7.0\n",
      "packaging==25.0\n",
      "pandas==2.3.1\n",
      "pandocfilters==1.5.1\n",
      "parso==0.8.4\n",
      "pexpect==4.9.0\n",
      "pillow==11.3.0\n",
      "platformdirs==4.3.8\n",
      "prometheus_client==0.22.1\n",
      "prompt_toolkit==3.0.51\n",
      "psutil==7.0.0\n",
      "ptyprocess==0.7.0\n",
      "pure_eval==0.2.3\n",
      "pycparser==2.22\n",
      "Pygments==2.19.2\n",
      "pyparsing==3.2.3\n",
      "python-dateutil==2.9.0.post0\n",
      "python-dotenv==1.1.1\n",
      "python-json-logger==3.3.0\n",
      "pytz==2025.2\n",
      "PyYAML==6.0.2\n",
      "pyzmq==27.0.1\n",
      "referencing==0.36.2\n",
      "requests==2.32.5\n",
      "rfc3339-validator==0.1.4\n",
      "rfc3986-validator==0.1.1\n",
      "rfc3987-syntax==1.1.0\n",
      "rpds-py==0.27.0\n",
      "Send2Trash==1.8.3\n",
      "six==1.17.0\n",
      "sniffio==1.3.1\n",
      "soupsieve==2.7\n",
      "stack-data==0.6.3\n",
      "terminado==0.18.1\n",
      "tinycss2==1.4.0\n",
      "tornado==6.5.2\n",
      "traitlets==5.14.3\n",
      "types-python-dateutil==2.9.0.20250809\n",
      "typing_extensions==4.14.1\n",
      "tzdata==2025.2\n",
      "uri-template==1.3.0\n",
      "urllib3==2.5.0\n",
      "wcwidth==0.2.13\n",
      "webcolors==24.11.1\n",
      "webencodings==0.5.1\n",
      "websocket-client==1.8.0\n",
      "widgetsnbextension==4.0.14\n"
     ]
    }
   ],
   "source": [
    "cat requirements.txt"
   ]
  },
  {
   "cell_type": "code",
   "execution_count": null,
   "id": "7a6805fa-721c-4f4c-99ca-bc532bd69dfe",
   "metadata": {},
   "outputs": [],
   "source": []
  }
 ],
 "metadata": {
  "kernelspec": {
   "display_name": "Python 3 (ipykernel)",
   "language": "python",
   "name": "python3"
  },
  "language_info": {
   "codemirror_mode": {
    "name": "ipython",
    "version": 3
   },
   "file_extension": ".py",
   "mimetype": "text/x-python",
   "name": "python",
   "nbconvert_exporter": "python",
   "pygments_lexer": "ipython3",
   "version": "3.11.13"
  }
 },
 "nbformat": 4,
 "nbformat_minor": 5
}
