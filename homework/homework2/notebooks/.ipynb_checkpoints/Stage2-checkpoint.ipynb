{
 "cells": [
  {
   "cell_type": "markdown",
   "id": "74bdbbb8-ddf2-40d5-90da-191361cd9141",
   "metadata": {},
   "source": [
    "# Environment & Config Check"
   ]
  },
  {
   "cell_type": "code",
   "execution_count": 1,
   "id": "c54f766c-22b9-45ea-9ab9-ec22602fa5ae",
   "metadata": {},
   "outputs": [
    {
     "name": "stdout",
     "output_type": "stream",
     "text": [
      "API_KEY present: True\n",
      "Array sum is: 6\n"
     ]
    }
   ],
   "source": [
    "import sys\n",
    "import os\n",
    "sys.path.append(os.path.abspath('..'))\n",
    "\n",
    "from src.config import load_env, get_key\n",
    "load_env()\n",
    "print(\"API_KEY present:\", get_key(\"API_KEY\") is not None)\n",
    "\n",
    "import numpy as np\n",
    "arr = np.array([1, 2, 3])\n",
    "print(\"Array sum is:\", arr.sum())"
   ]
  },
  {
   "cell_type": "code",
   "execution_count": 2,
   "id": "6338361b-3419-443c-b85d-9b371c7dfbdc",
   "metadata": {},
   "outputs": [],
   "source": [
    "!pip freeze > requirements.txt"
   ]
  },
  {
   "cell_type": "code",
   "execution_count": 3,
   "id": "d6c54f65-dca0-411e-851c-a6e6066b5562",
   "metadata": {},
   "outputs": [
    {
     "name": "stdout",
     "output_type": "stream",
     "text": [
      "anyio==4.10.0\n",
      "appnope==0.1.4\n",
      "argon2-cffi==25.1.0\n",
      "argon2-cffi-bindings==25.1.0\n",
      "arrow==1.3.0\n",
      "asttokens==3.0.0\n",
      "async-lru==2.0.5\n",
      "attrs==25.3.0\n",
      "babel==2.17.0\n",
      "beautifulsoup4==4.13.4\n",
      "bleach==6.2.0\n",
      "certifi==2025.8.3\n",
      "cffi==1.17.1\n",
      "charset-normalizer==3.4.3\n",
      "comm==0.2.3\n",
      "debugpy==1.8.16\n",
      "decorator==5.2.1\n",
      "defusedxml==0.7.1\n",
      "executing==2.2.0\n",
      "fastjsonschema==2.21.2\n",
      "fqdn==1.5.1\n",
      "h11==0.16.0\n",
      "httpcore==1.0.9\n",
      "httpx==0.28.1\n",
      "idna==3.10\n",
      "ipykernel==6.30.1\n",
      "ipython==9.4.0\n",
      "ipython_pygments_lexers==1.1.1\n",
      "ipywidgets==8.1.7\n",
      "isoduration==20.11.0\n",
      "jedi==0.19.2\n",
      "Jinja2==3.1.6\n",
      "json5==0.12.1\n",
      "jsonpointer==3.0.0\n",
      "jsonschema==4.25.1\n",
      "jsonschema-specifications==2025.4.1\n",
      "jupyter==1.1.1\n",
      "jupyter-console==6.6.3\n",
      "jupyter-events==0.12.0\n",
      "jupyter-lsp==2.2.6\n",
      "jupyter_client==8.6.3\n",
      "jupyter_core==5.8.1\n",
      "jupyter_server==2.16.0\n",
      "jupyter_server_terminals==0.5.3\n",
      "jupyterlab==4.4.6\n",
      "jupyterlab_pygments==0.3.0\n",
      "jupyterlab_server==2.27.3\n",
      "jupyterlab_widgets==3.0.15\n",
      "lark==1.2.2\n",
      "MarkupSafe==3.0.2\n",
      "matplotlib-inline==0.1.7\n",
      "mistune==3.1.3\n",
      "nbclient==0.10.2\n",
      "nbconvert==7.16.6\n",
      "nbformat==5.10.4\n",
      "nest-asyncio==1.6.0\n",
      "notebook==7.4.5\n",
      "notebook_shim==0.2.4\n",
      "numpy==2.3.2\n",
      "overrides==7.7.0\n",
      "packaging==25.0\n",
      "pandocfilters==1.5.1\n",
      "parso==0.8.4\n",
      "pexpect==4.9.0\n",
      "platformdirs==4.3.8\n",
      "prometheus_client==0.22.1\n",
      "prompt_toolkit==3.0.51\n",
      "psutil==7.0.0\n",
      "ptyprocess==0.7.0\n",
      "pure_eval==0.2.3\n",
      "pycparser==2.22\n",
      "Pygments==2.19.2\n",
      "python-dateutil==2.9.0.post0\n",
      "python-dotenv==1.1.1\n",
      "python-json-logger==3.3.0\n",
      "PyYAML==6.0.2\n",
      "pyzmq==27.0.1\n",
      "referencing==0.36.2\n",
      "requests==2.32.5\n",
      "rfc3339-validator==0.1.4\n",
      "rfc3986-validator==0.1.1\n",
      "rfc3987-syntax==1.1.0\n",
      "rpds-py==0.27.0\n",
      "Send2Trash==1.8.3\n",
      "six==1.17.0\n",
      "sniffio==1.3.1\n",
      "soupsieve==2.7\n",
      "stack-data==0.6.3\n",
      "terminado==0.18.1\n",
      "tinycss2==1.4.0\n",
      "tornado==6.5.2\n",
      "traitlets==5.14.3\n",
      "types-python-dateutil==2.9.0.20250809\n",
      "typing_extensions==4.14.1\n",
      "uri-template==1.3.0\n",
      "urllib3==2.5.0\n",
      "wcwidth==0.2.13\n",
      "webcolors==24.11.1\n",
      "webencodings==0.5.1\n",
      "websocket-client==1.8.0\n",
      "widgetsnbextension==4.0.14\n"
     ]
    }
   ],
   "source": [
    "cat requirements.txt"
   ]
  },
  {
   "cell_type": "code",
   "execution_count": null,
   "id": "1cd8389f-86c8-4b20-8e26-7d59fa5fabdd",
   "metadata": {},
   "outputs": [],
   "source": []
  }
 ],
 "metadata": {
  "kernelspec": {
   "display_name": "Python 3 (ipykernel)",
   "language": "python",
   "name": "python3"
  },
  "language_info": {
   "codemirror_mode": {
    "name": "ipython",
    "version": 3
   },
   "file_extension": ".py",
   "mimetype": "text/x-python",
   "name": "python",
   "nbconvert_exporter": "python",
   "pygments_lexer": "ipython3",
   "version": "3.11.13"
  }
 },
 "nbformat": 4,
 "nbformat_minor": 5
}
