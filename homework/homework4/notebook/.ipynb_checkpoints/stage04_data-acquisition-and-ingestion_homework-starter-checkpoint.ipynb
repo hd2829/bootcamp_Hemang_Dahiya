{
 "cells": [
  {
   "cell_type": "markdown",
   "id": "60faa4cb",
   "metadata": {},
   "source": [
    "# Homework Starter — Stage 04: Data Acquisition and Ingestion\n",
    "Name: \n",
    "Date: \n",
    "\n",
    "## Objectives\n",
    "- API ingestion with secrets in `.env`\n",
    "- Scrape a permitted public table\n",
    "- Validate and save raw data to `data/raw/`"
   ]
  },
  {
   "cell_type": "code",
   "execution_count": 1,
   "id": "e19f5739",
   "metadata": {},
   "outputs": [
    {
     "name": "stdout",
     "output_type": "stream",
     "text": [
      "ALPHAVANTAGE_API_KEY loaded? True\n"
     ]
    }
   ],
   "source": [
    "import os, pathlib, datetime as dt\n",
    "import requests\n",
    "import pandas as pd\n",
    "from bs4 import BeautifulSoup\n",
    "from dotenv import load_dotenv\n",
    "\n",
    "RAW = pathlib.Path('data/raw'); RAW.mkdir(parents=True, exist_ok=True)\n",
    "load_dotenv(); print('ALPHAVANTAGE_API_KEY loaded?', bool(os.getenv('ALPHAVANTAGE_API_KEY')))"
   ]
  },
  {
   "cell_type": "code",
   "execution_count": 2,
   "id": "39f998a9-b76e-455a-a3c1-3cb5b1e13e89",
   "metadata": {},
   "outputs": [
    {
     "name": "stdout",
     "output_type": "stream",
     "text": [
      "API Key: IHHY6ORZJGIOCFN2\n"
     ]
    }
   ],
   "source": [
    "import os\n",
    "print(\"API Key:\", os.getenv(\"ALPHAVANTAGE_API_KEY\"))"
   ]
  },
  {
   "cell_type": "markdown",
   "id": "78ff7cfe",
   "metadata": {},
   "source": [
    "## Helpers (use or modify)"
   ]
  },
  {
   "cell_type": "code",
   "execution_count": 3,
   "id": "9a81baf1",
   "metadata": {},
   "outputs": [],
   "source": [
    "def ts():\n",
    "    return dt.datetime.now().strftime('%Y%m%d-%H%M%S')\n",
    "\n",
    "def save_csv(df: pd.DataFrame, prefix: str, **meta):\n",
    "    mid = '_'.join([f\"{k}-{v}\" for k,v in meta.items()])\n",
    "    path = RAW / f\"{prefix}_{mid}_{ts()}.csv\"\n",
    "    df.to_csv(path, index=False)\n",
    "    print('Saved', path)\n",
    "    return path\n",
    "\n",
    "def validate(df: pd.DataFrame, required):\n",
    "    missing = [c for c in required if c not in df.columns]\n",
    "    return {'missing': missing, 'shape': df.shape, 'na_total': int(df.isna().sum().sum())}"
   ]
  },
  {
   "cell_type": "markdown",
   "id": "f310e22c",
   "metadata": {},
   "source": [
    "## Part 1 — API Pull (Required)\n",
    "Choose an endpoint (e.g., Alpha Vantage or use `yfinance` fallback)."
   ]
  },
  {
   "cell_type": "code",
   "execution_count": 4,
   "id": "db2d5035-336d-4e56-a52a-5a0bf1058f00",
   "metadata": {},
   "outputs": [
    {
     "name": "stdout",
     "output_type": "stream",
     "text": [
      "Requirement already satisfied: yfinance in /opt/anaconda3/envs/fe-course/lib/python3.11/site-packages (0.2.65)\n",
      "Requirement already satisfied: pandas>=1.3.0 in /opt/anaconda3/envs/fe-course/lib/python3.11/site-packages (from yfinance) (2.3.1)\n",
      "Requirement already satisfied: numpy>=1.16.5 in /opt/anaconda3/envs/fe-course/lib/python3.11/site-packages (from yfinance) (2.3.2)\n",
      "Requirement already satisfied: requests>=2.31 in /opt/anaconda3/envs/fe-course/lib/python3.11/site-packages (from yfinance) (2.32.5)\n",
      "Requirement already satisfied: multitasking>=0.0.7 in /opt/anaconda3/envs/fe-course/lib/python3.11/site-packages (from yfinance) (0.0.12)\n",
      "Requirement already satisfied: platformdirs>=2.0.0 in /opt/anaconda3/envs/fe-course/lib/python3.11/site-packages (from yfinance) (4.3.8)\n",
      "Requirement already satisfied: pytz>=2022.5 in /opt/anaconda3/envs/fe-course/lib/python3.11/site-packages (from yfinance) (2025.2)\n",
      "Requirement already satisfied: frozendict>=2.3.4 in /opt/anaconda3/envs/fe-course/lib/python3.11/site-packages (from yfinance) (2.4.6)\n",
      "Requirement already satisfied: peewee>=3.16.2 in /opt/anaconda3/envs/fe-course/lib/python3.11/site-packages (from yfinance) (3.18.2)\n",
      "Requirement already satisfied: beautifulsoup4>=4.11.1 in /opt/anaconda3/envs/fe-course/lib/python3.11/site-packages (from yfinance) (4.13.4)\n",
      "Requirement already satisfied: curl_cffi>=0.7 in /opt/anaconda3/envs/fe-course/lib/python3.11/site-packages (from yfinance) (0.13.0)\n",
      "Requirement already satisfied: protobuf>=3.19.0 in /opt/anaconda3/envs/fe-course/lib/python3.11/site-packages (from yfinance) (6.32.0)\n",
      "Requirement already satisfied: websockets>=13.0 in /opt/anaconda3/envs/fe-course/lib/python3.11/site-packages (from yfinance) (15.0.1)\n",
      "Requirement already satisfied: soupsieve>1.2 in /opt/anaconda3/envs/fe-course/lib/python3.11/site-packages (from beautifulsoup4>=4.11.1->yfinance) (2.7)\n",
      "Requirement already satisfied: typing-extensions>=4.0.0 in /opt/anaconda3/envs/fe-course/lib/python3.11/site-packages (from beautifulsoup4>=4.11.1->yfinance) (4.14.1)\n",
      "Requirement already satisfied: cffi>=1.12.0 in /opt/anaconda3/envs/fe-course/lib/python3.11/site-packages (from curl_cffi>=0.7->yfinance) (1.17.1)\n",
      "Requirement already satisfied: certifi>=2024.2.2 in /opt/anaconda3/envs/fe-course/lib/python3.11/site-packages (from curl_cffi>=0.7->yfinance) (2025.8.3)\n",
      "Requirement already satisfied: pycparser in /opt/anaconda3/envs/fe-course/lib/python3.11/site-packages (from cffi>=1.12.0->curl_cffi>=0.7->yfinance) (2.22)\n",
      "Requirement already satisfied: python-dateutil>=2.8.2 in /opt/anaconda3/envs/fe-course/lib/python3.11/site-packages (from pandas>=1.3.0->yfinance) (2.9.0.post0)\n",
      "Requirement already satisfied: tzdata>=2022.7 in /opt/anaconda3/envs/fe-course/lib/python3.11/site-packages (from pandas>=1.3.0->yfinance) (2025.2)\n",
      "Requirement already satisfied: six>=1.5 in /opt/anaconda3/envs/fe-course/lib/python3.11/site-packages (from python-dateutil>=2.8.2->pandas>=1.3.0->yfinance) (1.17.0)\n",
      "Requirement already satisfied: charset_normalizer<4,>=2 in /opt/anaconda3/envs/fe-course/lib/python3.11/site-packages (from requests>=2.31->yfinance) (3.4.3)\n",
      "Requirement already satisfied: idna<4,>=2.5 in /opt/anaconda3/envs/fe-course/lib/python3.11/site-packages (from requests>=2.31->yfinance) (3.10)\n",
      "Requirement already satisfied: urllib3<3,>=1.21.1 in /opt/anaconda3/envs/fe-course/lib/python3.11/site-packages (from requests>=2.31->yfinance) (2.5.0)\n"
     ]
    }
   ],
   "source": [
    "!pip install yfinance --upgrade --no-cache-dir"
   ]
  },
  {
   "cell_type": "code",
   "execution_count": 5,
   "id": "801cf797-beef-40ee-ac24-55ab29b95065",
   "metadata": {},
   "outputs": [
    {
     "name": "stderr",
     "output_type": "stream",
     "text": [
      "/var/folders/78/k4tp9c153gd34_2034rhhqfw0000gn/T/ipykernel_60532/1733745642.py:7: FutureWarning: YF.download() has changed argument auto_adjust default to True\n",
      "  df_api = yf.download(ticker, period=\"1mo\", interval=\"1d\")\n",
      "[*********************100%***********************]  1 of 1 completed"
     ]
    },
    {
     "name": "stdout",
     "output_type": "stream",
     "text": [
      "Shape: (23, 6)\n",
      "Columns: Index(['Date', 'Close', 'High', 'Low', 'Open', 'Volume'], dtype='object')\n",
      "NA counts:\n",
      " Date      0\n",
      "Close     0\n",
      "High      0\n",
      "Low       0\n",
      "Open      0\n",
      "Volume    0\n",
      "dtype: int64\n",
      "Saved: data/raw/api_yfinance_AAPL_20250820-1356.csv\n"
     ]
    },
    {
     "name": "stderr",
     "output_type": "stream",
     "text": [
      "\n"
     ]
    }
   ],
   "source": [
    "import os\n",
    "import yfinance as yf\n",
    "import pandas as pd\n",
    "from datetime import datetime\n",
    "\n",
    "ticker = \"AAPL\"\n",
    "df_api = yf.download(ticker, period=\"1mo\", interval=\"1d\")\n",
    "\n",
    "# Flatten MultiIndex columns if needed\n",
    "if isinstance(df_api.columns, pd.MultiIndex):\n",
    "    df_api.columns = [col[0] for col in df_api.columns]\n",
    "\n",
    "df_api.reset_index(inplace=True)\n",
    "\n",
    "# Parse dtypes\n",
    "if \"Date\" in df_api.columns:\n",
    "    df_api[\"Date\"] = pd.to_datetime(df_api[\"Date\"], errors=\"coerce\")\n",
    "\n",
    "for col in df_api.columns:\n",
    "    if col not in [\"Date\"]:\n",
    "        df_api[col] = pd.to_numeric(df_api[col], errors=\"coerce\")\n",
    "\n",
    "# Validation\n",
    "print(\"Shape:\", df_api.shape)\n",
    "print(\"Columns:\", df_api.columns)\n",
    "print(\"NA counts:\\n\", df_api.isna().sum())\n",
    "\n",
    "# Save\n",
    "os.makedirs(\"data/raw\", exist_ok=True)\n",
    "fname_api = f\"data/raw/api_yfinance_{ticker}_{datetime.now().strftime('%Y%m%d-%H%M')}.csv\"\n",
    "df_api.to_csv(fname_api, index=False)\n",
    "print(\"Saved:\", fname_api)"
   ]
  },
  {
   "cell_type": "code",
   "execution_count": 6,
   "id": "ddff2c2b-c33e-4a58-a89d-de68285f66f8",
   "metadata": {},
   "outputs": [
    {
     "name": "stdout",
     "output_type": "stream",
     "text": [
      "Requirement already satisfied: lxml in /opt/anaconda3/envs/fe-course/lib/python3.11/site-packages (6.0.0)\n"
     ]
    }
   ],
   "source": [
    "!pip install lxml"
   ]
  },
  {
   "cell_type": "code",
   "execution_count": 7,
   "id": "c4abae6d-6254-482e-ae56-3c456b39125a",
   "metadata": {},
   "outputs": [
    {
     "name": "stdout",
     "output_type": "stream",
     "text": [
      "Columns: Index(['Symbol', 'Security', 'GICS Sector', 'GICS Sub-Industry',\n",
      "       'Headquarters Location', 'Date added', 'CIK', 'Founded'],\n",
      "      dtype='object')\n",
      "Shape: (503, 8)\n",
      "NA counts:\n",
      " Symbol                   0\n",
      "Security                 0\n",
      "GICS Sector              0\n",
      "GICS Sub-Industry        0\n",
      "Headquarters Location    0\n",
      "Date added               0\n",
      "CIK                      0\n",
      "Founded                  0\n",
      "dtype: int64\n",
      "Saved: data/raw/scrape_wikipedia_sp500_20250820-1356.csv\n"
     ]
    },
    {
     "name": "stderr",
     "output_type": "stream",
     "text": [
      "/var/folders/78/k4tp9c153gd34_2034rhhqfw0000gn/T/ipykernel_60532/1895318161.py:12: FutureWarning: Passing literal html to 'read_html' is deprecated and will be removed in a future version. To read from a literal string, wrap it in a 'StringIO' object.\n",
      "  df_scrape = pd.read_html(str(table))[0]\n"
     ]
    }
   ],
   "source": [
    "import requests\n",
    "from bs4 import BeautifulSoup\n",
    "\n",
    "url = \"https://en.wikipedia.org/wiki/List_of_S%26P_500_companies\"\n",
    "html = requests.get(url).text\n",
    "soup = BeautifulSoup(html, \"html.parser\")\n",
    "\n",
    "# Find the first table\n",
    "table = soup.find(\"table\", {\"id\": \"constituents\"})\n",
    "\n",
    "# Parse into DataFrame\n",
    "df_scrape = pd.read_html(str(table))[0]\n",
    "\n",
    "# Validation\n",
    "print(\"Columns:\", df_scrape.columns)\n",
    "print(\"Shape:\", df_scrape.shape)\n",
    "print(\"NA counts:\\n\", df_scrape.isna().sum())\n",
    "\n",
    "# Save\n",
    "fname_scrape = f\"data/raw/scrape_wikipedia_sp500_{datetime.now().strftime('%Y%m%d-%H%M')}.csv\"\n",
    "df_scrape.to_csv(fname_scrape, index=False)\n",
    "print(\"Saved:\", fname_scrape)"
   ]
  },
  {
   "cell_type": "code",
   "execution_count": 8,
   "id": "bc516176",
   "metadata": {},
   "outputs": [
    {
     "ename": "IndexError",
     "evalue": "list index out of range",
     "output_type": "error",
     "traceback": [
      "\u001b[31m---------------------------------------------------------------------------\u001b[39m",
      "\u001b[31mIndexError\u001b[39m                                Traceback (most recent call last)",
      "\u001b[36mCell\u001b[39m\u001b[36m \u001b[39m\u001b[32mIn[8]\u001b[39m\u001b[32m, line 9\u001b[39m\n\u001b[32m      7\u001b[39m r.raise_for_status()\n\u001b[32m      8\u001b[39m js = r.json()\n\u001b[32m----> \u001b[39m\u001b[32m9\u001b[39m key = \u001b[43m[\u001b[49m\u001b[43mk\u001b[49m\u001b[43m \u001b[49m\u001b[38;5;28;43;01mfor\u001b[39;49;00m\u001b[43m \u001b[49m\u001b[43mk\u001b[49m\u001b[43m \u001b[49m\u001b[38;5;129;43;01min\u001b[39;49;00m\u001b[43m \u001b[49m\u001b[43mjs\u001b[49m\u001b[43m \u001b[49m\u001b[38;5;28;43;01mif\u001b[39;49;00m\u001b[43m \u001b[49m\u001b[33;43m'\u001b[39;49m\u001b[33;43mTime Series\u001b[39;49m\u001b[33;43m'\u001b[39;49m\u001b[43m \u001b[49m\u001b[38;5;129;43;01min\u001b[39;49;00m\u001b[43m \u001b[49m\u001b[43mk\u001b[49m\u001b[43m]\u001b[49m\u001b[43m[\u001b[49m\u001b[32;43m0\u001b[39;49m\u001b[43m]\u001b[49m\n\u001b[32m     10\u001b[39m df_api = pd.DataFrame(js[key]).T.reset_index().rename(columns={\u001b[33m'\u001b[39m\u001b[33mindex\u001b[39m\u001b[33m'\u001b[39m:\u001b[33m'\u001b[39m\u001b[33mdate\u001b[39m\u001b[33m'\u001b[39m,\u001b[33m'\u001b[39m\u001b[33m5. adjusted close\u001b[39m\u001b[33m'\u001b[39m:\u001b[33m'\u001b[39m\u001b[33madj_close\u001b[39m\u001b[33m'\u001b[39m})[[\u001b[33m'\u001b[39m\u001b[33mdate\u001b[39m\u001b[33m'\u001b[39m,\u001b[33m'\u001b[39m\u001b[33madj_close\u001b[39m\u001b[33m'\u001b[39m]]\n\u001b[32m     11\u001b[39m df_api[\u001b[33m'\u001b[39m\u001b[33mdate\u001b[39m\u001b[33m'\u001b[39m] = pd.to_datetime(df_api[\u001b[33m'\u001b[39m\u001b[33mdate\u001b[39m\u001b[33m'\u001b[39m]); df_api[\u001b[33m'\u001b[39m\u001b[33madj_close\u001b[39m\u001b[33m'\u001b[39m] = pd.to_numeric(df_api[\u001b[33m'\u001b[39m\u001b[33madj_close\u001b[39m\u001b[33m'\u001b[39m])\n",
      "\u001b[31mIndexError\u001b[39m: list index out of range"
     ]
    }
   ],
   "source": [
    "SYMBOL = 'AAPL'\n",
    "USE_ALPHA = bool(os.getenv('ALPHAVANTAGE_API_KEY'))\n",
    "if USE_ALPHA:\n",
    "    url = 'https://www.alphavantage.co/query'\n",
    "    params = {'function':'TIME_SERIES_DAILY_ADJUSTED','symbol':SYMBOL,'outputsize':'compact','apikey':os.getenv('ALPHAVANTAGE_API_KEY')}\n",
    "    r = requests.get(url, params=params, timeout=30)\n",
    "    r.raise_for_status()\n",
    "    js = r.json()\n",
    "    key = [k for k in js if 'Time Series' in k][0]\n",
    "    df_api = pd.DataFrame(js[key]).T.reset_index().rename(columns={'index':'date','5. adjusted close':'adj_close'})[['date','adj_close']]\n",
    "    df_api['date'] = pd.to_datetime(df_api['date']); df_api['adj_close'] = pd.to_numeric(df_api['adj_close'])\n",
    "else:\n",
    "    import yfinance as yf\n",
    "    df_api = yf.download(SYMBOL, period='3mo', interval='1d').reset_index()[['Date','Adj Close']]\n",
    "    df_api.columns = ['date','adj_close']\n",
    "\n",
    "v_api = validate(df_api, ['date','adj_close']); v_api"
   ]
  },
  {
   "cell_type": "markdown",
   "id": "a89c6382-0d0e-4a40-ad5c-7930108799f6",
   "metadata": {},
   "source": [
    "Edited Code Snippet becuase of ALPHAVANTAGE_API key"
   ]
  },
  {
   "cell_type": "code",
   "execution_count": 9,
   "id": "49be6e75-6c47-486f-8158-ed14197f64f3",
   "metadata": {},
   "outputs": [
    {
     "name": "stderr",
     "output_type": "stream",
     "text": [
      "/var/folders/78/k4tp9c153gd34_2034rhhqfw0000gn/T/ipykernel_60532/1287104549.py:39: FutureWarning: YF.download() has changed argument auto_adjust default to True\n",
      "  df_api = yf.download(SYMBOL, period='3mo', interval='1d')\n",
      "[*********************100%***********************]  1 of 1 completed"
     ]
    },
    {
     "name": "stdout",
     "output_type": "stream",
     "text": [
      "Alpha Vantage response missing data, falling back to yfinance.\n"
     ]
    },
    {
     "name": "stderr",
     "output_type": "stream",
     "text": [
      "\n"
     ]
    },
    {
     "data": {
      "text/plain": [
       "{'missing': [], 'shape': (64, 2), 'na_total': 0}"
      ]
     },
     "execution_count": 9,
     "metadata": {},
     "output_type": "execute_result"
    }
   ],
   "source": [
    "SYMBOL = 'AAPL'\n",
    "USE_ALPHA = bool(os.getenv('ALPHAVANTAGE_API_KEY'))\n",
    "\n",
    "df_api = None\n",
    "\n",
    "if USE_ALPHA:\n",
    "    try:\n",
    "        url = 'https://www.alphavantage.co/query'\n",
    "        params = {\n",
    "            'function': 'TIME_SERIES_DAILY_ADJUSTED',\n",
    "            'symbol': SYMBOL,\n",
    "            'outputsize': 'compact',\n",
    "            'apikey': os.getenv('ALPHAVANTAGE_API_KEY')\n",
    "        }\n",
    "        r = requests.get(url, params=params, timeout=30)\n",
    "        r.raise_for_status()\n",
    "        js = r.json()\n",
    "\n",
    "        key_candidates = [k for k in js if 'Time Series' in k]\n",
    "        if key_candidates:\n",
    "            key = key_candidates[0]\n",
    "            df_api = (\n",
    "                pd.DataFrame(js[key])\n",
    "                .T.reset_index()\n",
    "                .rename(columns={'index': 'date', '5. adjusted close': 'adj_close'})\n",
    "                [['date','adj_close']]\n",
    "            )\n",
    "            df_api['date'] = pd.to_datetime(df_api['date'])\n",
    "            df_api['adj_close'] = pd.to_numeric(df_api['adj_close'])\n",
    "        else:\n",
    "            print(\"Alpha Vantage response missing data, falling back to yfinance.\")\n",
    "            USE_ALPHA = False\n",
    "    except Exception as e:\n",
    "        print(\"Alpha Vantage failed:\", e)\n",
    "        USE_ALPHA = False\n",
    "\n",
    "if not USE_ALPHA or df_api is None:\n",
    "    import yfinance as yf\n",
    "    df_api = yf.download(SYMBOL, period='3mo', interval='1d')\n",
    "\n",
    "    # Flatten MultiIndex columns if needed\n",
    "    if isinstance(df_api.columns, pd.MultiIndex):\n",
    "        df_api.columns = [c[0] for c in df_api.columns]\n",
    "\n",
    "    df_api = df_api.reset_index()\n",
    "\n",
    "    # Select adjusted close if available, else close\n",
    "    if 'Adj Close' in df_api.columns:\n",
    "        df_api = df_api[['Date','Adj Close']]\n",
    "    else:\n",
    "        df_api = df_api[['Date','Close']].rename(columns={'Close':'Adj Close'})\n",
    "\n",
    "    df_api.columns = ['date','adj_close']\n",
    "\n",
    "v_api = validate(df_api, ['date','adj_close'])\n",
    "v_api"
   ]
  },
  {
   "cell_type": "code",
   "execution_count": 10,
   "id": "40b90c4f",
   "metadata": {},
   "outputs": [
    {
     "name": "stdout",
     "output_type": "stream",
     "text": [
      "Saved data/raw/api_source-yfinance_symbol-AAPL_20250820-135638.csv\n"
     ]
    }
   ],
   "source": [
    "_ = save_csv(df_api.sort_values('date'), prefix='api', source='alpha' if USE_ALPHA else 'yfinance', symbol=SYMBOL)"
   ]
  },
  {
   "cell_type": "markdown",
   "id": "3bd1048c",
   "metadata": {},
   "source": [
    "## Part 2 — Scrape a Public Table (Required)\n",
    "Replace `SCRAPE_URL` with a permitted page containing a simple table."
   ]
  },
  {
   "cell_type": "code",
   "execution_count": 11,
   "id": "50dce36d",
   "metadata": {},
   "outputs": [
    {
     "data": {
      "text/plain": [
       "{'missing': [], 'shape': (880, 8), 'na_total': 758}"
      ]
     },
     "execution_count": 11,
     "metadata": {},
     "output_type": "execute_result"
    }
   ],
   "source": [
    "SCRAPE_URL = 'https://en.wikipedia.org/wiki/List_of_S%26P_500_companies'  # TODO: replace with permitted page\n",
    "headers = {'User-Agent':'AFE-Homework/1.0'}\n",
    "try:\n",
    "    resp = requests.get(SCRAPE_URL, headers=headers, timeout=30); resp.raise_for_status()\n",
    "    soup = BeautifulSoup(resp.text, 'html.parser')\n",
    "    rows = [[c.get_text(strip=True) for c in tr.find_all(['th','td'])] for tr in soup.find_all('tr')]\n",
    "    header, *data = [r for r in rows if r]\n",
    "    df_scrape = pd.DataFrame(data, columns=header)\n",
    "except Exception as e:\n",
    "    print('Scrape failed, using inline demo table:', e)\n",
    "    html = '<table><tr><th>Ticker</th><th>Price</th></tr><tr><td>AAA</td><td>101.2</td></tr></table>'\n",
    "    soup = BeautifulSoup(html, 'html.parser')\n",
    "    rows = [[c.get_text(strip=True) for c in tr.find_all(['th','td'])] for tr in soup.find_all('tr')]\n",
    "    header, *data = [r for r in rows if r]\n",
    "    df_scrape = pd.DataFrame(data, columns=header)\n",
    "\n",
    "if 'Price' in df_scrape.columns:\n",
    "    df_scrape['Price'] = pd.to_numeric(df_scrape['Price'], errors='coerce')\n",
    "v_scrape = validate(df_scrape, list(df_scrape.columns)); v_scrape"
   ]
  },
  {
   "cell_type": "code",
   "execution_count": 12,
   "id": "0f6f83f6",
   "metadata": {},
   "outputs": [
    {
     "name": "stdout",
     "output_type": "stream",
     "text": [
      "Saved data/raw/scrape_site-example_table-markets_20250820-135641.csv\n"
     ]
    }
   ],
   "source": [
    "_ = save_csv(df_scrape, prefix='scrape', site='example', table='markets')"
   ]
  },
  {
   "cell_type": "markdown",
   "id": "9786f1ba",
   "metadata": {},
   "source": [
    "## Documentation\n",
    "- API Source: (URL/endpoint/params)\n",
    "- Scrape Source: (URL/table description)\n",
    "- Assumptions & risks: (rate limits, selector fragility, schema changes)\n",
    "- Confirm `.env` is not committed."
   ]
  }
 ],
 "metadata": {
  "kernelspec": {
   "display_name": "Python 3 (ipykernel)",
   "language": "python",
   "name": "python3"
  },
  "language_info": {
   "codemirror_mode": {
    "name": "ipython",
    "version": 3
   },
   "file_extension": ".py",
   "mimetype": "text/x-python",
   "name": "python",
   "nbconvert_exporter": "python",
   "pygments_lexer": "ipython3",
   "version": "3.11.13"
  }
 },
 "nbformat": 4,
 "nbformat_minor": 5
}
